{
 "cells": [
  {
   "cell_type": "code",
   "execution_count": 52,
   "metadata": {},
   "outputs": [
    {
     "name": "stdout",
     "output_type": "stream",
     "text": [
      "Collecting pynput\n",
      "  Downloading pynput-1.7.1-py2.py3-none-any.whl (99 kB)\n",
      "Requirement already satisfied: six in c:\\users\\dell\\appdata\\roaming\\python\\python37\\site-packages (from pynput) (1.14.0)\n",
      "Installing collected packages: pynput\n",
      "Successfully installed pynput-1.7.1\n",
      "Note: you may need to restart the kernel to use updated packages.\n"
     ]
    }
   ],
   "source": [
    "pip install pynput"
   ]
  },
  {
   "cell_type": "code",
   "execution_count": 1,
   "metadata": {},
   "outputs": [],
   "source": [
    "import pandas as pd\n",
    "import numpy as np\n",
    "import webbrowser\n",
    "import pyautogui \n",
    "import time\n",
    "from pynput.keyboard import Key, Controller"
   ]
  },
  {
   "cell_type": "code",
   "execution_count": 8,
   "metadata": {},
   "outputs": [
    {
     "name": "stdout",
     "output_type": "stream",
     "text": [
      "                     Schools       City    State  Address\n",
      "0  M G Parmar Primary School  Ahmedabad  Gujarat      NaN\n",
      "1         C G Primary School  Ahmedabad  Gujarat      NaN\n",
      "2       Republic High School  Ahmedabad  Gujarat      NaN\n",
      "3     Rakhial English School  Ahmedabad  Gujarat      NaN\n",
      "4        F D Juhapura School  Ahmedabad  Gujarat      NaN\n"
     ]
    }
   ],
   "source": [
    "df = pd.read_excel('Schools_list.xlsx')\n",
    "print(df.head(5))"
   ]
  },
  {
   "cell_type": "code",
   "execution_count": 43,
   "metadata": {},
   "outputs": [
    {
     "name": "stdout",
     "output_type": "stream",
     "text": [
      "Size(width=1366, height=768)\n",
      "                                  Schools         City           State  \\\n",
      "0               M G Parmar Primary School    Ahmedabad         Gujarat   \n",
      "1                      C G Primary School    Ahmedabad         Gujarat   \n",
      "2                    Republic High School    Ahmedabad         Gujarat   \n",
      "3                  Rakhial English School    Ahmedabad         Gujarat   \n",
      "4                     F D Juhapura School    Ahmedabad         Gujarat   \n",
      "5                           Adalaj School    Ahmedabad         Gujarat   \n",
      "6               Udgam School for Children    Ahmedabad         Gujarat   \n",
      "7      Caloryx Olive International School    Ahmedabad         Gujarat   \n",
      "8   Jain International Residential School    Bangalore       Karnataka   \n",
      "9          American International Schools      Chennai      Tamil Nadu   \n",
      "10          Canadian International School      Chennai      Tamil Nadu   \n",
      "11                        The School, KFI      Chennai      Tamil Nadu   \n",
      "12                    Sardar Patel School        Delhi           Delhi   \n",
      "13                  Sri Siddhartha School    Hyderabad       Telangana   \n",
      "14                 Khushbow Vidya Niketan    Hyderabad       Telangana   \n",
      "15                                  GNHMS    Hyderabad       Telangana   \n",
      "16                   The Aga Khan Academy    Hyderabad       Telangana   \n",
      "17                    Rishi Valley School  Madanapalle  Andhra Pradesh   \n",
      "18                    Fountainhead School        Surat         Gujarat   \n",
      "19                       Millenium School        Surat         Gujarat   \n",
      "\n",
      "                                              Address  \n",
      "0         M G Parmar Primary School,Ahmedabad,Gujarat  \n",
      "1                C G Primary School,Ahmedabad,Gujarat  \n",
      "2              Republic High School,Ahmedabad,Gujarat  \n",
      "3            Rakhial English School,Ahmedabad,Gujarat  \n",
      "4               F D Juhapura School,Ahmedabad,Gujarat  \n",
      "5                     Adalaj School,Ahmedabad,Gujarat  \n",
      "6         Udgam School for Children,Ahmedabad,Gujarat  \n",
      "7   Caloryx Olive International School,Ahmedabad,G...  \n",
      "8   Jain International Residential School,Bangalor...  \n",
      "9   American International Schools,Chennai,Tamil Nadu  \n",
      "10   Canadian International School,Chennai,Tamil Nadu  \n",
      "11                 The School, KFI,Chennai,Tamil Nadu  \n",
      "12                    Sardar Patel School,Delhi,Delhi  \n",
      "13          Sri Siddhartha School,Hyderabad,Telangana  \n",
      "14         Khushbow Vidya Niketan,Hyderabad,Telangana  \n",
      "15                          GNHMS,Hyderabad,Telangana  \n",
      "16           The Aga Khan Academy,Hyderabad,Telangana  \n",
      "17     Rishi Valley School,Madanapalle,Andhra Pradesh  \n",
      "18                  Fountainhead School,Surat,Gujarat  \n",
      "19                     Millenium School,Surat,Gujarat  \n"
     ]
    }
   ],
   "source": [
    "df['Address'] = [x + ',' + y + ',' + z for x, y, z in zip(df['Schools'], df['City'],df['State'])]\n",
    "keyboard = Controller()\n",
    "df.head(5)\n",
    "print(pyautogui.size())\n",
    "print(df.head(20))\n"
   ]
  },
  {
   "cell_type": "code",
   "execution_count": 41,
   "metadata": {},
   "outputs": [
    {
     "name": "stdout",
     "output_type": "stream",
     "text": [
      "C G Primary School,Ahmedabad,Gujarat\n"
     ]
    }
   ],
   "source": [
    "pyautogui.moveTo(295,285)\n",
    "print(fr_add) "
   ]
  },
  {
   "cell_type": "code",
   "execution_count": 54,
   "metadata": {},
   "outputs": [],
   "source": [
    "fr_add = df.iloc[1,-1]\n",
    "webbrowser.open(\"https://www.google.com/maps/d/u/0/edit?mid=17R9SbXisxCt8eS829G7o5GdWE6dPrCBh&ll=19.536807063314413%2C82.75998700000001&z=4\")\n",
    "time.sleep(5)\n",
    "pyautogui.moveTo(700,110)\n",
    "time.sleep(1)\n",
    "pyautogui.click(700,110) \n",
    "time.sleep(1)\n",
    "for letter in fr_add:\n",
    "    keyboard.press(letter)\n",
    "    keyboard.release(letter)\n",
    "    time.sleep(0.1)\n",
    "keyboard.press(Key.enter)\n",
    "keyboard.release(Key.enter)\n",
    "time.sleep(2)\n",
    "pyautogui.moveTo(305,285)\n",
    "time.sleep(1)\n",
    "pyautogui.click(305,285)\n",
    "pyautogui.moveTo(295,285)\n",
    "time.sleep(1)\n",
    "pyautogui.click(287,285) #multiple results\n",
    "# pyautogui.click(287,281)"
   ]
  },
  {
   "cell_type": "code",
   "execution_count": 36,
   "metadata": {},
   "outputs": [
    {
     "ename": "KeyboardInterrupt",
     "evalue": "",
     "output_type": "error",
     "traceback": [
      "\u001b[1;31m---------------------------------------------------------------------------\u001b[0m",
      "\u001b[1;31mKeyboardInterrupt\u001b[0m                         Traceback (most recent call last)",
      "\u001b[1;32m<ipython-input-36-7ec0c3a1667e>\u001b[0m in \u001b[0;36m<module>\u001b[1;34m\u001b[0m\n\u001b[0;32m      1\u001b[0m \u001b[1;32mfor\u001b[0m \u001b[0maddress\u001b[0m \u001b[1;32min\u001b[0m \u001b[0mdf\u001b[0m\u001b[1;33m[\u001b[0m\u001b[1;34m'Address'\u001b[0m\u001b[1;33m]\u001b[0m\u001b[1;33m:\u001b[0m\u001b[1;33m\u001b[0m\u001b[1;33m\u001b[0m\u001b[0m\n\u001b[0;32m      2\u001b[0m     \u001b[0mwebbrowser\u001b[0m\u001b[1;33m.\u001b[0m\u001b[0mopen\u001b[0m\u001b[1;33m(\u001b[0m\u001b[1;34m\"https://www.google.com/maps/d/u/0/edit?mid=1fhp5wVfrQLcKMvGesPTNQA3zx5C_3Eyy&ll=13.04960153186229%2C80.237205&z=12\"\u001b[0m\u001b[1;33m)\u001b[0m\u001b[1;33m\u001b[0m\u001b[1;33m\u001b[0m\u001b[0m\n\u001b[1;32m----> 3\u001b[1;33m     \u001b[0mtime\u001b[0m\u001b[1;33m.\u001b[0m\u001b[0msleep\u001b[0m\u001b[1;33m(\u001b[0m\u001b[1;36m10\u001b[0m\u001b[1;33m)\u001b[0m\u001b[1;33m\u001b[0m\u001b[1;33m\u001b[0m\u001b[0m\n\u001b[0m\u001b[0;32m      4\u001b[0m     \u001b[0mpyautogui\u001b[0m\u001b[1;33m.\u001b[0m\u001b[0mmoveTo\u001b[0m\u001b[1;33m(\u001b[0m\u001b[1;36m700\u001b[0m\u001b[1;33m,\u001b[0m\u001b[1;36m110\u001b[0m\u001b[1;33m)\u001b[0m\u001b[1;33m\u001b[0m\u001b[1;33m\u001b[0m\u001b[0m\n\u001b[0;32m      5\u001b[0m     \u001b[0mpyautogui\u001b[0m\u001b[1;33m.\u001b[0m\u001b[0mclick\u001b[0m\u001b[1;33m(\u001b[0m\u001b[1;36m700\u001b[0m\u001b[1;33m,\u001b[0m\u001b[1;36m110\u001b[0m\u001b[1;33m)\u001b[0m\u001b[1;33m\u001b[0m\u001b[1;33m\u001b[0m\u001b[0m\n",
      "\u001b[1;31mKeyboardInterrupt\u001b[0m: "
     ]
    }
   ],
   "source": [
    "for address in df['Address']: \n",
    "    webbrowser.open(\"https://www.google.com/maps/d/u/0/edit?mid=1fhp5wVfrQLcKMvGesPTNQA3zx5C_3Eyy&ll=13.04960153186229%2C80.237205&z=12\")\n",
    "    time.sleep(10)\n",
    "    pyautogui.moveTo(700,110)\n",
    "    pyautogui.click(700,110) \n",
    "    for letter in address:\n",
    "        keyboard.press(letter)\n",
    "        keyboard.release(letter)\n",
    "        time.sleep(1)\n",
    "    time.sleep(5)\n",
    "    keyboard.press(Key.enter)\n",
    "    keyboard.release(Key.enter)\n",
    "    time.sleep(5)\n",
    "    pyautogui.moveTo(305,285)\n",
    "    time.sleep(1)\n",
    "    pyautogui.click(305,285) \n",
    "    time.sleep(1)\n",
    "    pyautogui.click(287,285) #multiple results\n",
    "    time.sleep(3)"
   ]
  }
 ],
 "metadata": {
  "kernelspec": {
   "display_name": "Python 3",
   "language": "python",
   "name": "python3"
  },
  "language_info": {
   "codemirror_mode": {
    "name": "ipython",
    "version": 3
   },
   "file_extension": ".py",
   "mimetype": "text/x-python",
   "name": "python",
   "nbconvert_exporter": "python",
   "pygments_lexer": "ipython3",
   "version": "3.7.3"
  }
 },
 "nbformat": 4,
 "nbformat_minor": 4
}
